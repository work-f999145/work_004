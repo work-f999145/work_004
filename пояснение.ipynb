{
 "cells": [
  {
   "cell_type": "code",
   "execution_count": 1,
   "metadata": {},
   "outputs": [],
   "source": [
    "\"\"\"\n",
    "task    //Задание\n",
    "task_rk\t                Ключ задания\n",
    "task_stage_id\t        Идентификтор стадии задания\n",
    "source_system_cd\t    Код системы источника\n",
    "create_dttm\t            Дата-время создания задания     //перевести в дату\n",
    "finish_dttm\t            Дата-время окончания задания    //перевести в дату\n",
    "\n",
    "call    //Звонок\n",
    "wo_hit_rk\t            Ключ коммуникации с клиентом\n",
    "wo_task_rk\t            Ключ задания\n",
    "wo_queue_id\t            Идентификтор очереди, на которой получено задание\n",
    "agent_login\t            Логин оператора\n",
    "wo_employee_rk\t        Ключ оператора\n",
    "finish_dttm\t            Дата-время завершения коммуникации\n",
    "duration_sec\t        Длительность коммуникации в секундах //перевести в дату\n",
    "\n",
    "action  //Соединяет звонок с результатом\n",
    "hit_rk\t                Ключ коммуникации с клиентом\n",
    "hit_status_result_id\tИдентификтор результата коммуникации\n",
    "\n",
    "product //\n",
    "hit_rk\t                Ключ коммуникации с клиентом\n",
    "hid\t                    Идентификатор продукта\n",
    "using_flg\t            Флаг начала пользования продуктом\n",
    "\n",
    "emp_x_org_gr\n",
    "employee_rk\t            Ключ оператора\n",
    "org_group_rk\t        Ключ группы, в которой работает оператор\n",
    "\n",
    "result\n",
    "hit_status_result_id\tИдентификтор результата коммуникации\n",
    "hit_status_result_desc\tРасшифровка идентификтора результата коммуникации\n",
    "\n",
    "queue\n",
    "queue_id\t            Идентификтор очереди, на которой получено задание\n",
    "queue_desc\t            Расшифровка идентификтора очереди, на которое получено задание\n",
    "\n",
    "group\n",
    "org_group_rk\t        Ключ группы, в которой работает оператор\n",
    "org_management_rk\t    Ключ управления, в которой работает оператор\n",
    "group_nm\t            Расшифровка ключа группы, в которой работает оператор\n",
    "\n",
    "mngmnt\n",
    "org_management_rk\t    Ключ управления, в которой работает оператор\n",
    "management_nm\t        Расшифровка ключа управления, в которой работает оператор\n",
    "\n",
    "horoscope\n",
    "agent_login\t            Логин оператора\n",
    "horoscope\t            Знак зодиака оператора\n",
    "\"\"\";"
   ]
  },
  {
   "attachments": {},
   "cell_type": "markdown",
   "metadata": {},
   "source": [
    "https://app.dbdesigner.net/designer/schema/new"
   ]
  },
  {
   "attachments": {},
   "cell_type": "markdown",
   "metadata": {},
   "source": [
    "![](data/pictures/Schema.png)"
   ]
  },
  {
   "cell_type": "code",
   "execution_count": null,
   "metadata": {},
   "outputs": [],
   "source": [
    "\"\"\"\n",
    "    Ковертировать столбцы с датами\n",
    "    \n",
    "\"\"\""
   ]
  }
 ],
 "metadata": {
  "kernelspec": {
   "display_name": "Python 3",
   "language": "python",
   "name": "python3"
  },
  "language_info": {
   "codemirror_mode": {
    "name": "ipython",
    "version": 3
   },
   "file_extension": ".py",
   "mimetype": "text/x-python",
   "name": "python",
   "nbconvert_exporter": "python",
   "pygments_lexer": "ipython3",
   "version": "3.11.3"
  },
  "orig_nbformat": 4
 },
 "nbformat": 4,
 "nbformat_minor": 2
}
